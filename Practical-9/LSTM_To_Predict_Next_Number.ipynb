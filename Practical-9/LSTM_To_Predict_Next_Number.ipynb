{
  "nbformat": 4,
  "nbformat_minor": 0,
  "metadata": {
    "colab": {
      "provenance": []
    },
    "kernelspec": {
      "name": "python3",
      "display_name": "Python 3"
    },
    "language_info": {
      "name": "python"
    }
  },
  "cells": [
    {
      "cell_type": "code",
      "source": [
        "import numpy as np\n",
        "import tensorflow as tf\n",
        "from tensorflow.keras.models import Sequential\n",
        "from tensorflow.keras.layers import LSTM, Dense\n",
        "\n",
        "# Generate some dummy sequential data\n",
        "X = np.array([[[i] for i in range(10)]], dtype=np.float32)  # Input sequence\n",
        "Y = np.array([[10]], dtype=np.float32)  # Target output\n",
        "\n",
        "# Define a simple LSTM model\n",
        "model = Sequential([\n",
        "    LSTM(10, input_shape=(10, 1)),  # 10 time steps, 1 feature\n",
        "    Dense(1)  # Output layer\n",
        "])\n",
        "\n",
        "# Compile the model\n",
        "model.compile(optimizer='adam', loss='mse')\n",
        "\n",
        "# Train the model\n",
        "model.fit(X, Y, epochs=6000, verbose=0)\n",
        "\n",
        "# Make a prediction\n",
        "prediction = model.predict(X)\n",
        "print(\"Prediction:\", prediction)\n"
      ],
      "metadata": {
        "colab": {
          "base_uri": "https://localhost:8080/"
        },
        "id": "R3yVCS6-zrAQ",
        "outputId": "cdecc930-9375-4a8e-bff4-ed43860e88d9"
      },
      "execution_count": 12,
      "outputs": [
        {
          "output_type": "stream",
          "name": "stdout",
          "text": [
            "\u001b[1m1/1\u001b[0m \u001b[32m━━━━━━━━━━━━━━━━━━━━\u001b[0m\u001b[37m\u001b[0m \u001b[1m0s\u001b[0m 130ms/step\n",
            "Prediction: [[9.999998]]\n"
          ]
        }
      ]
    }
  ]
}