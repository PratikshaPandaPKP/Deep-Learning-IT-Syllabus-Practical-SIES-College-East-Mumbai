{
  "nbformat": 4,
  "nbformat_minor": 0,
  "metadata": {
    "colab": {
      "provenance": []
    },
    "kernelspec": {
      "name": "python3",
      "display_name": "Python 3"
    },
    "language_info": {
      "name": "python"
    }
  },
  "cells": [
    {
      "cell_type": "code",
      "source": [
        "import torch\n",
        "from torchvision import models, transforms\n",
        "from PIL import Image\n",
        "\n",
        "# Load the pretrained ResNet50 model using 'weights' instead of 'pretrained'\n",
        "model = models.resnet50(weights=models.ResNet50_Weights.IMAGENET1K_V1)  # Updated line\n",
        "model.eval()  # Set the model to evaluation mode\n",
        "\n",
        "# Define preprocessing for the input image\n",
        "preprocess = transforms.Compose([\n",
        "    transforms.Resize(256),          # Resize the image to 256x256\n",
        "    transforms.CenterCrop(224),      # Crop the center 224x224\n",
        "    transforms.ToTensor(),           # Convert to Tensor\n",
        "    transforms.Normalize(            # Normalize with ImageNet stats\n",
        "        mean=[0.485, 0.456, 0.406],\n",
        "        std=[0.229, 0.224, 0.225]\n",
        "    )\n",
        "])\n",
        "\n",
        "# Load and preprocess the image\n",
        "image = Image.open(\"/content/Object.png\")  # Replace with your image path\n",
        "input_tensor = preprocess(image).unsqueeze(0)  # Add batch dimension\n",
        "\n",
        "# Perform inference\n",
        "with torch.no_grad():\n",
        "    outputs = model(input_tensor)\n",
        "\n",
        "# Get the predicted class\n",
        "_, predicted_class = outputs.max(1)  # Get the index of the max logit\n",
        "print(f\"Predicted class index: {predicted_class.item()}\")\n"
      ],
      "metadata": {
        "colab": {
          "base_uri": "https://localhost:8080/"
        },
        "id": "yDJFZvA0yVbR",
        "outputId": "d32b7279-d227-465c-e079-fe0a9987c6e6"
      },
      "execution_count": 1,
      "outputs": [
        {
          "output_type": "stream",
          "name": "stdout",
          "text": [
            "Predicted class index: 870\n"
          ]
        }
      ]
    },
    {
      "cell_type": "markdown",
      "source": [
        "Predicted class index 870 refers to the most prominent object in the image, based on the model's classification.\n"
      ],
      "metadata": {
        "id": "FK56ObvwyX5a"
      }
    }
  ]
}