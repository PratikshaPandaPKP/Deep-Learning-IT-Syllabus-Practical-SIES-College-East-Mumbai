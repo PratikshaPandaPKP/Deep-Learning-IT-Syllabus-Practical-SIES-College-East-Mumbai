{
  "nbformat": 4,
  "nbformat_minor": 0,
  "metadata": {
    "colab": {
      "provenance": []
    },
    "kernelspec": {
      "name": "python3",
      "display_name": "Python 3"
    },
    "language_info": {
      "name": "python"
    }
  },
  "cells": [
    {
      "cell_type": "code",
      "source": [
        "import numpy as np\n",
        "\n",
        "# Given temperatures\n",
        "input_sequence = np.array([28, 30, 32, 34], dtype=np.float32)\n",
        "\n",
        "# Initial hidden state\n",
        "h_t = 0  # h0 = 0\n",
        "\n",
        "# Given weights and biases\n",
        "Wx = 0.4  # Weight for input\n",
        "Wh = 0.6  # Weight for hidden state\n",
        "b = 0.2   # Bias term\n",
        "\n",
        "# Compute hidden states for each day\n",
        "hidden_states = []\n",
        "for x_t in input_sequence:\n",
        "    h_t = np.tanh(Wh * h_t + Wx * x_t + b)\n",
        "    hidden_states.append(h_t)\n",
        "\n",
        "# Final hidden state after Day 4\n",
        "h4 = hidden_states[-1]\n",
        "\n",
        "# Given final weights for output\n",
        "Wy = 2  # Weight for hidden state output\n",
        "by = 25  # Bias for final prediction\n",
        "\n",
        "# Predict temperature for Day 5\n",
        "y5 = Wy * h4 + by\n",
        "\n",
        "# Print results\n",
        "print(f\"Predicted Temperature for Day 5: {y5:.2f}°C\")\n"
      ],
      "metadata": {
        "colab": {
          "base_uri": "https://localhost:8080/"
        },
        "id": "Li9zRQ9sFKFk",
        "outputId": "d2ca5c70-18aa-4cbe-c026-279283ff2e19"
      },
      "execution_count": 1,
      "outputs": [
        {
          "output_type": "stream",
          "name": "stdout",
          "text": [
            "Predicted Temperature for Day 5: 27.00°C\n"
          ]
        }
      ]
    }
  ]
}