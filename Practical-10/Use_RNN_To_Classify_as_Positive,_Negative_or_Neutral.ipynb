{
  "nbformat": 4,
  "nbformat_minor": 0,
  "metadata": {
    "colab": {
      "provenance": []
    },
    "kernelspec": {
      "name": "python3",
      "display_name": "Python 3"
    },
    "language_info": {
      "name": "python"
    }
  },
  "cells": [
    {
      "cell_type": "code",
      "source": [
        "import numpy as np\n",
        "\n",
        "def tanh(x):\n",
        "    return np.tanh(x)\n",
        "\n",
        "# Simulated word embeddings for words in a sentence (5 words, each with a random sentiment representation)\n",
        "sentiments = np.random.uniform(-1, 1, 5)  # Random values between -1 and 1\n",
        "W = 0.6  # Input weight\n",
        "U = 0.8  # Hidden state weight\n",
        "b = 0.2  # Bias\n",
        "h = 0.0  # Initial hidden state\n",
        "\n",
        "# Compute hidden states\n",
        "hidden_states = []\n",
        "for x in sentiments:\n",
        "    h = tanh(W * x + U * h + b)\n",
        "    hidden_states.append(h)\n",
        "\n",
        "# Classification logic\n",
        "final_hidden_state = hidden_states[-1]\n",
        "print(\"Final hidden state:\", final_hidden_state)\n",
        "\n",
        "if final_hidden_state > 0.5:\n",
        "    print(\"Prediction: Positive Sentiment\")\n",
        "elif final_hidden_state < -0.5:\n",
        "    print(\"Prediction: Negative Sentiment\")\n",
        "else:\n",
        "    print(\"Prediction: Neutral Sentiment\")\n"
      ],
      "metadata": {
        "colab": {
          "base_uri": "https://localhost:8080/"
        },
        "id": "BsPkaPT70lce",
        "outputId": "936957c2-b4b6-4049-f2d2-27089d4cd8e3"
      },
      "execution_count": 2,
      "outputs": [
        {
          "output_type": "stream",
          "name": "stdout",
          "text": [
            "Final hidden state: 0.6863266547637675\n",
            "Prediction: Positive Sentiment\n"
          ]
        }
      ]
    }
  ]
}