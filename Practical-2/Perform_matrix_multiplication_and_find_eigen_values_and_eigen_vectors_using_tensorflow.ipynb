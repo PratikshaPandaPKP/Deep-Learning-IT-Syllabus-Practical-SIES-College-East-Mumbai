{
  "nbformat": 4,
  "nbformat_minor": 0,
  "metadata": {
    "colab": {
      "provenance": []
    },
    "kernelspec": {
      "name": "python3",
      "display_name": "Python 3"
    },
    "language_info": {
      "name": "python"
    }
  },
  "cells": [
    {
      "cell_type": "code",
      "execution_count": 1,
      "metadata": {
        "colab": {
          "base_uri": "https://localhost:8080/"
        },
        "id": "Pq-F2qJRAGLr",
        "outputId": "6ad3816f-b349-476f-cf62-60557175d77c"
      },
      "outputs": [
        {
          "output_type": "stream",
          "name": "stdout",
          "text": [
            "Matrix A:\n",
            "[[ 0.04308302  0.5654639  -0.3199596 ]\n",
            " [-1.1082838   0.9970972   0.19860204]\n",
            " [ 1.5333116  -1.2748919  -0.64154565]]\n",
            "\n",
            "Matrix B:\n",
            "[[-0.96308005  0.299498    1.8905128 ]\n",
            " [ 1.5395595   0.02200339 -0.7530315 ]\n",
            " [-0.30789945  1.9073709  -1.7807994 ]]\n",
            "\n",
            "Matrix C (A * B):\n",
            "[[ 0.9275883  -0.58493626  0.22542076]\n",
            " [ 2.5413072   0.0688185  -3.1997406 ]\n",
            " [-3.2419422  -0.7924937   5.001243  ]]\n",
            "\n",
            "Eigenvalues of matrix C:\n",
            "[-2.4576228  1.1224148  7.332855 ]\n",
            "\n",
            "Eigenvectors of matrix C:\n",
            "[[-0.7209161  -0.46049502  0.51790357]\n",
            " [ 0.6484817  -0.71183217  0.26975262]\n",
            " [-0.24444072 -0.53032005 -0.81179374]]\n"
          ]
        }
      ],
      "source": [
        "import tensorflow as tf\n",
        "import numpy\n",
        "\n",
        "# Create two random matrices for matrix multiplication\n",
        "A = tf.random.normal([3, 3])  # 3x3 matrix\n",
        "B = tf.random.normal([3, 3])  # 3x3 matrix\n",
        "\n",
        "# Perform matrix multiplication\n",
        "C = tf.matmul(A, B)\n",
        "\n",
        "# Calculate eigenvalues and eigenvectors\n",
        "eigenvalues, eigenvectors = tf.linalg.eigh(C)\n",
        "\n",
        "# Print the results\n",
        "print(\"Matrix A:\")\n",
        "print(A.numpy())\n",
        "print(\"\\nMatrix B:\")\n",
        "print(B.numpy())\n",
        "print(\"\\nMatrix C (A * B):\")\n",
        "print(C.numpy())\n",
        "\n",
        "print(\"\\nEigenvalues of matrix C:\")\n",
        "print(eigenvalues.numpy())\n",
        "\n",
        "print(\"\\nEigenvectors of matrix C:\")\n",
        "print(eigenvectors.numpy())\n"
      ]
    }
  ]
}