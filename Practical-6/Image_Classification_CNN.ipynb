{
  "cells": [
    {
      "cell_type": "code",
      "source": [
        "# Import necessary libraries\n",
        "import tensorflow as tf\n",
        "from tensorflow.keras.models import Sequential\n",
        "from tensorflow.keras.layers import Conv2D, MaxPooling2D, Flatten, Dense, Dropout\n",
        "from tensorflow.keras.preprocessing.image import ImageDataGenerator\n",
        "from tensorflow.keras.optimizers import Adam\n",
        "\n",
        "# Load the dataset (using CIFAR-10 as an example, but you can replace it with your own dataset)\n",
        "from tensorflow.keras.datasets import cifar10\n",
        "\n",
        "# Load CIFAR-10 dataset (for example purposes)\n",
        "(x_train, y_train), (x_test, y_test) = cifar10.load_data()\n",
        "\n",
        "# Normalize the images to a range of 0 to 1\n",
        "x_train = x_train / 255.0\n",
        "x_test = x_test / 255.0\n",
        "\n",
        "# Build the CNN model\n",
        "model = Sequential()\n",
        "\n",
        "# Convolutional Layer, activation layer, pooling\n",
        "model.add(Conv2D(64, (3, 3), activation='relu'))\n",
        "model.add(MaxPooling2D(pool_size=(2, 2)))\n",
        "\n",
        "\n",
        "# Flatten into a 1D vector\n",
        "model.add(Flatten())\n",
        "\n",
        "# Fully Connected Layer\n",
        "model.add(Dropout(0.5))  # Dropout layer for regularization\n",
        "\n",
        "# Output Layer (softmax activation for classification)\n",
        "model.add(Dense(10, activation='softmax'))  # 10 classes for CIFAR-10\n",
        "\n",
        "# Compile the model\n",
        "model.compile(optimizer=Adam(), loss='sparse_categorical_crossentropy', metrics=['accuracy'])\n",
        "\n",
        "# Train the model\n",
        "model.fit(x_train, y_train, epochs=10, batch_size=64, validation_data=(x_test, y_test))\n",
        "\n",
        "# Evaluate the model on test data\n",
        "test_loss, test_acc = model.evaluate(x_test, y_test, verbose=2)\n",
        "print(f\"Test accuracy: {test_acc}\")\n"
      ],
      "metadata": {
        "colab": {
          "base_uri": "https://localhost:8080/"
        },
        "id": "AantUU0ENC6P",
        "outputId": "b5b41957-ed7b-4065-dc29-07d4bae87216"
      },
      "id": "AantUU0ENC6P",
      "execution_count": 1,
      "outputs": [
        {
          "output_type": "stream",
          "name": "stdout",
          "text": [
            "Epoch 1/10\n",
            "\u001b[1m782/782\u001b[0m \u001b[32m━━━━━━━━━━━━━━━━━━━━\u001b[0m\u001b[37m\u001b[0m \u001b[1m61s\u001b[0m 76ms/step - accuracy: 0.3813 - loss: 1.7423 - val_accuracy: 0.5344 - val_loss: 1.3102\n",
            "Epoch 2/10\n",
            "\u001b[1m782/782\u001b[0m \u001b[32m━━━━━━━━━━━━━━━━━━━━\u001b[0m\u001b[37m\u001b[0m \u001b[1m77s\u001b[0m 70ms/step - accuracy: 0.5567 - loss: 1.2698 - val_accuracy: 0.5895 - val_loss: 1.1756\n",
            "Epoch 3/10\n",
            "\u001b[1m782/782\u001b[0m \u001b[32m━━━━━━━━━━━━━━━━━━━━\u001b[0m\u001b[37m\u001b[0m \u001b[1m81s\u001b[0m 69ms/step - accuracy: 0.6020 - loss: 1.1601 - val_accuracy: 0.6051 - val_loss: 1.1428\n",
            "Epoch 4/10\n",
            "\u001b[1m782/782\u001b[0m \u001b[32m━━━━━━━━━━━━━━━━━━━━\u001b[0m\u001b[37m\u001b[0m \u001b[1m83s\u001b[0m 71ms/step - accuracy: 0.6164 - loss: 1.1080 - val_accuracy: 0.6317 - val_loss: 1.0748\n",
            "Epoch 5/10\n",
            "\u001b[1m782/782\u001b[0m \u001b[32m━━━━━━━━━━━━━━━━━━━━\u001b[0m\u001b[37m\u001b[0m \u001b[1m54s\u001b[0m 69ms/step - accuracy: 0.6336 - loss: 1.0646 - val_accuracy: 0.5887 - val_loss: 1.1852\n",
            "Epoch 6/10\n",
            "\u001b[1m782/782\u001b[0m \u001b[32m━━━━━━━━━━━━━━━━━━━━\u001b[0m\u001b[37m\u001b[0m \u001b[1m82s\u001b[0m 69ms/step - accuracy: 0.6449 - loss: 1.0383 - val_accuracy: 0.6299 - val_loss: 1.0687\n",
            "Epoch 7/10\n",
            "\u001b[1m782/782\u001b[0m \u001b[32m━━━━━━━━━━━━━━━━━━━━\u001b[0m\u001b[37m\u001b[0m \u001b[1m54s\u001b[0m 69ms/step - accuracy: 0.6528 - loss: 1.0083 - val_accuracy: 0.6377 - val_loss: 1.0503\n",
            "Epoch 8/10\n",
            "\u001b[1m782/782\u001b[0m \u001b[32m━━━━━━━━━━━━━━━━━━━━\u001b[0m\u001b[37m\u001b[0m \u001b[1m81s\u001b[0m 68ms/step - accuracy: 0.6541 - loss: 0.9923 - val_accuracy: 0.6437 - val_loss: 1.0369\n",
            "Epoch 9/10\n",
            "\u001b[1m782/782\u001b[0m \u001b[32m━━━━━━━━━━━━━━━━━━━━\u001b[0m\u001b[37m\u001b[0m \u001b[1m82s\u001b[0m 68ms/step - accuracy: 0.6612 - loss: 0.9805 - val_accuracy: 0.6476 - val_loss: 1.0305\n",
            "Epoch 10/10\n",
            "\u001b[1m782/782\u001b[0m \u001b[32m━━━━━━━━━━━━━━━━━━━━\u001b[0m\u001b[37m\u001b[0m \u001b[1m54s\u001b[0m 69ms/step - accuracy: 0.6724 - loss: 0.9634 - val_accuracy: 0.6536 - val_loss: 1.0182\n",
            "313/313 - 2s - 7ms/step - accuracy: 0.6536 - loss: 1.0182\n",
            "Test accuracy: 0.6535999774932861\n"
          ]
        }
      ]
    },
    {
      "cell_type": "code",
      "source": [
        "import numpy as np\n",
        "import tensorflow as tf\n",
        "from tensorflow.keras.preprocessing import image\n",
        "import matplotlib.pyplot as plt\n",
        "\n",
        "# Function to load, preprocess and predict an image\n",
        "def detect_image(image_path, model):\n",
        "    # Load the image\n",
        "    img = image.load_img(image_path, target_size=(32, 32))  # Resize the image to match model's input size\n",
        "    img_array = image.img_to_array(img)  # Convert image to array\n",
        "    img_array = img_array / 255.0  # Normalize pixel values to [0, 1]\n",
        "    img_array = np.expand_dims(img_array, axis=0)  # Add batch dimension\n",
        "\n",
        "    # Make prediction\n",
        "    prediction = model.predict(img_array)[0]  # Get probabilities for all classes\n",
        "\n",
        "    # Map the predicted class index to the class label\n",
        "    class_labels = ['airplane', 'automobile', 'bird', 'cat', 'deer', 'dog', 'frog', 'horse', 'ship', 'truck']  # CIFAR-10 classes\n",
        "\n",
        "    # Get the predicted class (highest probability)\n",
        "    predicted_class = np.argmax(prediction)\n",
        "    predicted_label = class_labels[predicted_class]\n",
        "\n",
        "    # Display the image and prediction\n",
        "    plt.imshow(img)\n",
        "    plt.title(f\"Predicted: {predicted_label}\")\n",
        "    plt.show()\n",
        "\n",
        "    # Print probabilities for each class\n",
        "    print(\"Class probabilities:\")\n",
        "    for label, prob in zip(class_labels, prediction):\n",
        "        print(f\"{label}: {prob:.4f}\")\n",
        "\n",
        "    return predicted_label, prediction\n",
        "\n",
        "# Example of how to use the detect_image function\n",
        "image_path = '/content/Frog-Capture.JPG'  # Replace with the path to your image\n",
        "predicted_label, probabilities = detect_image(image_path, model)\n",
        "print(f\"Predicted label: {predicted_label}\")\n"
      ],
      "metadata": {
        "colab": {
          "base_uri": "https://localhost:8080/",
          "height": 678
        },
        "id": "e6DNiioXq-Cl",
        "outputId": "1700dcd4-a976-4e4b-bbab-9d0ac71b0127"
      },
      "id": "e6DNiioXq-Cl",
      "execution_count": 2,
      "outputs": [
        {
          "output_type": "stream",
          "name": "stdout",
          "text": [
            "\u001b[1m1/1\u001b[0m \u001b[32m━━━━━━━━━━━━━━━━━━━━\u001b[0m\u001b[37m\u001b[0m \u001b[1m0s\u001b[0m 53ms/step\n"
          ]
        },
        {
          "output_type": "display_data",
          "data": {
            "text/plain": [
              "<Figure size 640x480 with 1 Axes>"
            ],
            "image/png": "[encoded data removed]"
          },
          "metadata": {}
        },
        {
          "output_type": "stream",
          "name": "stdout",
          "text": [
            "Class probabilities:\n",
            "airplane: 0.0000\n",
            "automobile: 0.0000\n",
            "bird: 0.0000\n",
            "cat: 0.0002\n",
            "deer: 0.0000\n",
            "dog: 0.0000\n",
            "frog: 0.9995\n",
            "horse: 0.0000\n",
            "ship: 0.0000\n",
            "truck: 0.0003\n",
            "Predicted label: frog\n"
          ]
        }
      ]
    }
  ],
  "metadata": {
    "kernelspec": {
      "display_name": "Python 3",
      "language": "python",
      "name": "python3"
    },
    "language_info": {
      "codemirror_mode": {
        "name": "ipython",
        "version": 3
      },
      "file_extension": ".py",
      "mimetype": "text/x-python",
      "name": "python",
      "nbconvert_exporter": "python",
      "pygments_lexer": "ipython3",
      "version": "3.7.12"
    },
    "papermill": {
      "default_parameters": {},
      "duration": 18.860285,
      "end_time": "2022-01-31T06:01:23.068849",
      "environment_variables": {},
      "exception": null,
      "input_path": "__notebook__.ipynb",
      "output_path": "__notebook__.ipynb",
      "parameters": {},
      "start_time": "2022-01-31T06:01:04.208564",
      "version": "2.3.3"
    },
    "colab": {
      "provenance": []
    }
  },
  "nbformat": 4,
  "nbformat_minor": 5
}