{
  "nbformat": 4,
  "nbformat_minor": 0,
  "metadata": {
    "colab": {
      "provenance": []
    },
    "kernelspec": {
      "name": "python3",
      "display_name": "Python 3"
    },
    "language_info": {
      "name": "python"
    }
  },
  "cells": [
    {
      "cell_type": "code",
      "source": [
        "import tensorflow as tf\n",
        "from tensorflow.keras.models import Sequential\n",
        "from tensorflow.keras.layers import Dense, Conv2D, Flatten, MaxPooling2D\n",
        "from tensorflow.keras.datasets import mnist\n",
        "from tensorflow.keras.utils import to_categorical\n",
        "import numpy as np\n",
        "import matplotlib.pyplot as plt\n",
        "\n",
        "# Load and preprocess data\n",
        "(x_train, y_train), (x_test, y_test) = mnist.load_data()\n",
        "x_train = x_train.reshape(-1, 28, 28, 1).astype('float32') / 255.0\n",
        "x_test = x_test.reshape(-1, 28, 28, 1).astype('float32') / 255.0\n",
        "y_train = to_categorical(y_train, 10)\n",
        "y_test = to_categorical(y_test, 10)\n",
        "\n",
        "# Function to create model\n",
        "def create_model(learning_rate=0.001):\n",
        "    model = Sequential([\n",
        "        Conv2D(32, kernel_size=(3, 3), activation='relu', input_shape=(28, 28, 1)),\n",
        "        MaxPooling2D(pool_size=(2, 2)),\n",
        "        Flatten(),\n",
        "        Dense(128, activation='relu'),\n",
        "        Dense(10, activation='softmax')\n",
        "    ])\n",
        "    model.compile(optimizer=tf.keras.optimizers.Adam(learning_rate=learning_rate),\n",
        "                  loss='categorical_crossentropy',\n",
        "                  metrics=['accuracy'])\n",
        "    return model\n",
        "\n",
        "# Hyperparameter tuning\n",
        "learning_rates = [0.001, 0.01]\n",
        "batch_sizes = [32, 64]\n",
        "\n",
        "best_accuracy = 0\n",
        "best_params = {}\n",
        "best_model = None\n",
        "\n",
        "for lr in learning_rates:\n",
        "    for batch_size in batch_sizes:\n",
        "        print(f\"Training with Learning Rate: {lr}, Batch Size: {batch_size}\")\n",
        "        model = create_model(learning_rate=lr)\n",
        "        model.fit(x_train, y_train, epochs=3, batch_size=batch_size, verbose=1)\n",
        "        loss, accuracy = model.evaluate(x_test, y_test, verbose=0)\n",
        "        print(f\"Accuracy: {accuracy}\")\n",
        "\n",
        "        # Update best parameters if accuracy improves\n",
        "        if accuracy > best_accuracy:\n",
        "            best_accuracy = accuracy\n",
        "            best_params = {'learning_rate': lr, 'batch_size': batch_size}\n",
        "            best_model = model  # Store the best model\n",
        "\n",
        "# Print the best parameters\n",
        "print(f\"Best Accuracy: {best_accuracy}\")\n",
        "print(f\"Best Hyperparameters: {best_params}\")\n",
        "\n",
        "# Classify a single image with the best model\n",
        "test_image = x_test[0]  # Let's classify the first image in the test set\n",
        "test_image_label = np.argmax(y_test[0])  # Get the true label of the image\n",
        "\n",
        "# Add an extra dimension to the image (to make it 4D)\n",
        "test_image = np.expand_dims(test_image, axis=0)\n",
        "\n",
        "# Predict the class of the test image\n",
        "predicted_class = best_model.predict(test_image)\n",
        "predicted_label = np.argmax(predicted_class)"
      ],
      "metadata": {
        "colab": {
          "base_uri": "https://localhost:8080/"
        },
        "id": "PwE4LbYsF5G2",
        "outputId": "a535717c-2f0c-435f-a56b-3397855e2e96"
      },
      "execution_count": 1,
      "outputs": [
        {
          "output_type": "stream",
          "name": "stdout",
          "text": [
            "Training with Learning Rate: 0.001, Batch Size: 32\n"
          ]
        },
        {
          "output_type": "stream",
          "name": "stderr",
          "text": [
            "/usr/local/lib/python3.10/dist-packages/keras/src/layers/convolutional/base_conv.py:107: UserWarning: Do not pass an `input_shape`/`input_dim` argument to a layer. When using Sequential models, prefer using an `Input(shape)` object as the first layer in the model instead.\n",
            "  super().__init__(activity_regularizer=activity_regularizer, **kwargs)\n"
          ]
        },
        {
          "output_type": "stream",
          "name": "stdout",
          "text": [
            "Epoch 1/3\n",
            "\u001b[1m1875/1875\u001b[0m \u001b[32m━━━━━━━━━━━━━━━━━━━━\u001b[0m\u001b[37m\u001b[0m \u001b[1m50s\u001b[0m 26ms/step - accuracy: 0.9102 - loss: 0.3013\n",
            "Epoch 2/3\n",
            "\u001b[1m1875/1875\u001b[0m \u001b[32m━━━━━━━━━━━━━━━━━━━━\u001b[0m\u001b[37m\u001b[0m \u001b[1m76s\u001b[0m 23ms/step - accuracy: 0.9826 - loss: 0.0568\n",
            "Epoch 3/3\n",
            "\u001b[1m1875/1875\u001b[0m \u001b[32m━━━━━━━━━━━━━━━━━━━━\u001b[0m\u001b[37m\u001b[0m \u001b[1m42s\u001b[0m 23ms/step - accuracy: 0.9903 - loss: 0.0324\n",
            "Accuracy: 0.9865000247955322\n",
            "Training with Learning Rate: 0.001, Batch Size: 64\n",
            "Epoch 1/3\n",
            "\u001b[1m938/938\u001b[0m \u001b[32m━━━━━━━━━━━━━━━━━━━━\u001b[0m\u001b[37m\u001b[0m \u001b[1m34s\u001b[0m 35ms/step - accuracy: 0.8974 - loss: 0.3593\n",
            "Epoch 2/3\n",
            "\u001b[1m938/938\u001b[0m \u001b[32m━━━━━━━━━━━━━━━━━━━━\u001b[0m\u001b[37m\u001b[0m \u001b[1m34s\u001b[0m 36ms/step - accuracy: 0.9822 - loss: 0.0606\n",
            "Epoch 3/3\n",
            "\u001b[1m938/938\u001b[0m \u001b[32m━━━━━━━━━━━━━━━━━━━━\u001b[0m\u001b[37m\u001b[0m \u001b[1m41s\u001b[0m 36ms/step - accuracy: 0.9891 - loss: 0.0359\n",
            "Accuracy: 0.9837999939918518\n",
            "Training with Learning Rate: 0.01, Batch Size: 32\n",
            "Epoch 1/3\n",
            "\u001b[1m1875/1875\u001b[0m \u001b[32m━━━━━━━━━━━━━━━━━━━━\u001b[0m\u001b[37m\u001b[0m \u001b[1m43s\u001b[0m 22ms/step - accuracy: 0.9208 - loss: 0.2644\n",
            "Epoch 2/3\n",
            "\u001b[1m1875/1875\u001b[0m \u001b[32m━━━━━━━━━━━━━━━━━━━━\u001b[0m\u001b[37m\u001b[0m \u001b[1m41s\u001b[0m 22ms/step - accuracy: 0.9807 - loss: 0.0639\n",
            "Epoch 3/3\n",
            "\u001b[1m1875/1875\u001b[0m \u001b[32m━━━━━━━━━━━━━━━━━━━━\u001b[0m\u001b[37m\u001b[0m \u001b[1m41s\u001b[0m 22ms/step - accuracy: 0.9845 - loss: 0.0522\n",
            "Accuracy: 0.9749000072479248\n",
            "Training with Learning Rate: 0.01, Batch Size: 64\n",
            "Epoch 1/3\n",
            "\u001b[1m938/938\u001b[0m \u001b[32m━━━━━━━━━━━━━━━━━━━━\u001b[0m\u001b[37m\u001b[0m \u001b[1m33s\u001b[0m 34ms/step - accuracy: 0.9171 - loss: 0.2804\n",
            "Epoch 2/3\n",
            "\u001b[1m938/938\u001b[0m \u001b[32m━━━━━━━━━━━━━━━━━━━━\u001b[0m\u001b[37m\u001b[0m \u001b[1m41s\u001b[0m 34ms/step - accuracy: 0.9831 - loss: 0.0517\n",
            "Epoch 3/3\n",
            "\u001b[1m938/938\u001b[0m \u001b[32m━━━━━━━━━━━━━━━━━━━━\u001b[0m\u001b[37m\u001b[0m \u001b[1m34s\u001b[0m 36ms/step - accuracy: 0.9888 - loss: 0.0349\n",
            "Accuracy: 0.9828000068664551\n",
            "Best Accuracy: 0.9865000247955322\n",
            "Best Hyperparameters: {'learning_rate': 0.001, 'batch_size': 32}\n",
            "\u001b[1m1/1\u001b[0m \u001b[32m━━━━━━━━━━━━━━━━━━━━\u001b[0m\u001b[37m\u001b[0m \u001b[1m0s\u001b[0m 59ms/step\n"
          ]
        }
      ]
    },
    {
      "cell_type": "code",
      "source": [
        "import numpy as np\n",
        "import matplotlib.pyplot as plt\n",
        "\n",
        "# Select a few test images and their labels\n",
        "indices = [0, 20, 40]  # Specify the indices of the images to display\n",
        "test_images = x_test[indices]\n",
        "true_labels = np.argmax(y_test[indices], axis=1)\n",
        "\n",
        "# Predict the labels for the selected images\n",
        "predicted_labels = np.argmax(best_model.predict(test_images), axis=1)\n",
        "\n",
        "# Plot the images with their true and predicted labels\n",
        "for i, idx in enumerate(indices):\n",
        "    plt.figure(figsize=(3, 3))\n",
        "    plt.imshow(test_images[i].squeeze(), cmap='gray')  # Remove extra dimensions with squeeze()\n",
        "    plt.title(f\"True Label: {true_labels[i]}, Predicted Label: {predicted_labels[i]}\")\n",
        "    plt.axis('off')  # Turn off axis\n",
        "    plt.show()\n"
      ],
      "metadata": {
        "colab": {
          "base_uri": "https://localhost:8080/",
          "height": 853
        },
        "id": "E80KCFaiL75k",
        "outputId": "6ddb3851-faf8-4886-850c-ac3bd51f2db7"
      },
      "execution_count": 2,
      "outputs": [
        {
          "output_type": "stream",
          "name": "stdout",
          "text": [
            "\u001b[1m1/1\u001b[0m \u001b[32m━━━━━━━━━━━━━━━━━━━━\u001b[0m\u001b[37m\u001b[0m \u001b[1m0s\u001b[0m 60ms/step\n"
          ]
        },
        {
          "output_type": "display_data",
          "data": {
            "text/plain": [
              "<Figure size 300x300 with 1 Axes>"
            ],
            "image/png": "[encoded data removed]"
          },
          "metadata": {}
        },
        {
          "output_type": "display_data",
          "data": {
            "text/plain": [
              "<Figure size 300x300 with 1 Axes>"
            ],
            "image/png": "[encoded data removed]"
          },
          "metadata": {}
        },
        {
          "output_type": "display_data",
          "data": {
            "text/plain": [
              "<Figure size 300x300 with 1 Axes>"
            ],
            "image/png": "[encoded data removed]"
          },
          "metadata": {}
        }
      ]
    },
    {
      "cell_type": "code",
      "source": [
        "from tensorflow.keras.preprocessing.image import load_img, img_to_array\n",
        "\n",
        "# Load a custom image (ensure it's 28x28 grayscale)\n",
        "custom_image_path = \"/content/8-pic.png\"  # Replace with your image file path\n",
        "custom_image = load_img(custom_image_path, color_mode=\"grayscale\", target_size=(28, 28))\n",
        "\n",
        "# Preprocess the image\n",
        "custom_image_array = img_to_array(custom_image).astype('float32') / 255.0\n",
        "custom_image_array = custom_image_array.reshape(1, 28, 28, 1)  # Add batch dimension\n",
        "\n",
        "# Predict the label using the best model\n",
        "predicted_label = np.argmax(best_model.predict(custom_image_array), axis=1)\n",
        "\n",
        "# Display the image and prediction\n",
        "plt.imshow(custom_image_array.squeeze(), cmap='gray')  # Remove batch and channel dimensions\n",
        "plt.title(f\"Predicted Label: {predicted_label[0]}\")\n",
        "plt.axis('off')\n",
        "plt.show()\n"
      ],
      "metadata": {
        "colab": {
          "base_uri": "https://localhost:8080/",
          "height": 445
        },
        "id": "1ZF-Dh4zMsuS",
        "outputId": "ab7f7d05-157e-4f4f-8103-36f975cca865"
      },
      "execution_count": 3,
      "outputs": [
        {
          "output_type": "stream",
          "name": "stdout",
          "text": [
            "\u001b[1m1/1\u001b[0m \u001b[32m━━━━━━━━━━━━━━━━━━━━\u001b[0m\u001b[37m\u001b[0m \u001b[1m0s\u001b[0m 21ms/step\n"
          ]
        },
        {
          "output_type": "display_data",
          "data": {
            "text/plain": [
              "<Figure size 640x480 with 1 Axes>"
            ],
            "image/png": "[encoded data removed]"
          },
          "metadata": {}
        }
      ]
    }
  ]
}